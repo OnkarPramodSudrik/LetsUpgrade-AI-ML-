{
 "cells": [
  {
   "cell_type": "markdown",
   "metadata": {},
   "source": [
    "#### Research on whether addition, subtraction, multiplication, division, floor division, and modulo operations be performed on complex numbers. Based on your study, implement a Python program to demonstrate these operations."
   ]
  },
  {
   "cell_type": "code",
   "execution_count": 8,
   "metadata": {},
   "outputs": [
    {
     "name": "stdout",
     "output_type": "stream",
     "text": [
      "Addition of the complex no. is  (5+7j)\n",
      "Subtraction of the complex no. is  (-1-1j)\n",
      "Multiplication of the complex no. is  (-6+17j)\n",
      "Division of the complex no. is  (0.72+0.04j)\n"
     ]
    }
   ],
   "source": [
    "a= 2+3j\n",
    "b= 3+4j\n",
    "\n",
    "print(\"Addition of the complex no. is \",a+b)\n",
    "print(\"Subtraction of the complex no. is \",a-b)\n",
    "print(\"Multiplication of the complex no. is \",a*b)\n",
    "print(\"Division of the complex no. is \",a/b)\n",
    "# print(\"Floor Division of the complex no. is \",a//b) Cant Perform floor division on Complex No.\n",
    "# print(\"Modulo operation of the complex no. is \",a%b) Cant Perform Modulo Operation on Complex No."
   ]
  },
  {
   "cell_type": "markdown",
   "metadata": {},
   "source": [
    "#### Research on range() functions and its parameters. Create a markdown cell and write in your own words what you understand about it. Implement a small program of your choice on the same."
   ]
  },
  {
   "cell_type": "markdown",
   "metadata": {},
   "source": [
    "The range() function is a built-in-function in the python. The range() function generates a sequence of numbers according to the user's requirement.\n",
    "Syntax of the range() function is range(start, stop, step)\n",
    "where,\n",
    "Start (optional) is an integer number that specifies where to start. Default is 0.\n",
    "Stop (required) is an integer number that specifies where to stop.\n",
    "step (optional) is an integer number that specifies how much to increment the number. Default is 1.\n"
   ]
  },
  {
   "cell_type": "code",
   "execution_count": 9,
   "metadata": {},
   "outputs": [
    {
     "name": "stdout",
     "output_type": "stream",
     "text": [
      "range(0, 10)\n"
     ]
    }
   ],
   "source": [
    "x= range(10)\n",
    "print(x)"
   ]
  },
  {
   "cell_type": "markdown",
   "metadata": {},
   "source": [
    "#### Consider two numbers. Perform their subtraction and if the result of subtraction is greater than 25, print their multiplication result else print their division result."
   ]
  },
  {
   "cell_type": "code",
   "execution_count": 10,
   "metadata": {},
   "outputs": [
    {
     "name": "stdout",
     "output_type": "stream",
     "text": [
      "The Division of the given two numbers is  1.3333333333333333\n"
     ]
    }
   ],
   "source": [
    "a= 20\n",
    "b= 15\n",
    "c= a-b\n",
    "if c>25 :\n",
    "    print(\"The multiplication of the given two numbers is \",a*b )\n",
    "    \n",
    "else :\n",
    "    print(\"The Division of the given two numbers is \",a/b)"
   ]
  },
  {
   "cell_type": "markdown",
   "metadata": {},
   "source": [
    "#### Consider a list of 10 elements of integer values. If the number in the list is divisible by 2, print the result as \"square of that number minus 2\"."
   ]
  },
  {
   "cell_type": "code",
   "execution_count": 14,
   "metadata": {},
   "outputs": [
    {
     "name": "stdout",
     "output_type": "stream",
     "text": [
      "2\n",
      "14\n",
      "34\n",
      "62\n",
      "98\n"
     ]
    }
   ],
   "source": [
    "k= [1,2,3,4,5,6,7,8,9,10]\n",
    "for i in k:\n",
    "    if i%2 == 0:\n",
    "        print((i**2)-2)"
   ]
  },
  {
   "cell_type": "markdown",
   "metadata": {},
   "source": [
    "#### Consider a list of 10 elements. Print all the elements in the list which are greater than 7 when that number is divided 2."
   ]
  },
  {
   "cell_type": "code",
   "execution_count": 17,
   "metadata": {},
   "outputs": [
    {
     "name": "stdout",
     "output_type": "stream",
     "text": [
      "20\n",
      "30\n",
      "40\n",
      "50\n",
      "60\n",
      "70\n",
      "80\n",
      "90\n",
      "100\n"
     ]
    }
   ],
   "source": [
    "l= [10,20,30,40,50,60,70,80,90,100]\n",
    "for i in l:\n",
    "    if i/2 > 7:\n",
    "        print(i)"
   ]
  }
 ],
 "metadata": {
  "kernelspec": {
   "display_name": "Python 3",
   "language": "python",
   "name": "python3"
  },
  "language_info": {
   "codemirror_mode": {
    "name": "ipython",
    "version": 3
   },
   "file_extension": ".py",
   "mimetype": "text/x-python",
   "name": "python",
   "nbconvert_exporter": "python",
   "pygments_lexer": "ipython3",
   "version": "3.8.5"
  }
 },
 "nbformat": 4,
 "nbformat_minor": 4
}
