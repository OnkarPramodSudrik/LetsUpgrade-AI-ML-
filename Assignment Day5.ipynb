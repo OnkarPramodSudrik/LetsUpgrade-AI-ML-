{
 "cells": [
  {
   "cell_type": "markdown",
   "metadata": {},
   "source": [
    "#### Write a Python program to find the first 20 non-even prime natural numbers."
   ]
  },
  {
   "cell_type": "code",
   "execution_count": 1,
   "metadata": {},
   "outputs": [
    {
     "name": "stdout",
     "output_type": "stream",
     "text": [
      "2\n",
      "3\n",
      "5\n",
      "7\n",
      "11\n",
      "13\n",
      "17\n",
      "19\n"
     ]
    }
   ],
   "source": [
    "k= range(0,21)\n",
    "for i in k :\n",
    "    if i>1:\n",
    "        for j in range(2,i) :\n",
    "            if (i%j==0):\n",
    "                break\n",
    "        else :\n",
    "            print(i)"
   ]
  },
  {
   "cell_type": "markdown",
   "metadata": {},
   "source": [
    "#### Write a Python program to implement 15 functions of string."
   ]
  },
  {
   "cell_type": "code",
   "execution_count": 5,
   "metadata": {},
   "outputs": [
    {
     "name": "stdout",
     "output_type": "stream",
     "text": [
      "China : The String is alphanumeric\n",
      "1974 : The String contains only digits\n",
      "Australia : String contains only alphabetic characters\n",
      "    : String contains only whitespace characters\n",
      "JAPAN : All letters in the string are uppercase\n",
      "India 1974 : Convert String in lowercase: india 1974\n",
      "India 1974 : Convert String in uppercase: INDIA 1974\n",
      "\n",
      "Left Strip: India 1974\n",
      "\n",
      "Left Strip with Character A: merica 1974\n",
      "\n",
      "Right Strip: America 1974     \n",
      "\n",
      "Right Strip with Character a: Americ\n",
      "\n",
      "Strip from both side : America 1974\n",
      "\n",
      "Strip with Character A: merica Russia Japan China\n",
      "Strip with Character a: America Russia Japan Chin\n",
      "\n",
      "endswith check whether a string ends with a specified substring\n",
      "True\n",
      "False\n",
      "\n",
      "startswith check if a string starts with a specified substring\n",
      "True\n",
      "False\n",
      "2\n",
      "-1\n",
      "5\n",
      "-1\n",
      "0\n",
      "Hello Russia\n"
     ]
    }
   ],
   "source": [
    "def main():\n",
    " \n",
    "    user_string = \"China\"\n",
    "    if user_string.isalnum():\n",
    "        print(user_string, ': The String is alphanumeric')\n",
    " \n",
    "    user_string = \"1974\"\n",
    "    if user_string.isdigit():\n",
    "        print(user_string, ': The String contains only digits')\n",
    " \n",
    "    user_string = \"Australia\"\n",
    "    if user_string.isalpha():\n",
    "        print(user_string, ': String contains only alphabetic characters')\n",
    " \n",
    "    user_string = \"   \"\n",
    "    if user_string.isspace():\n",
    "        print(user_string, ': String contains only whitespace characters')\n",
    " \n",
    "    user_string = \"JAPAN\"\n",
    "    if user_string.isupper():\n",
    "        print(user_string, ': All letters in the string are uppercase')\n",
    " \n",
    "    user_string = \"Australia 1974\"\n",
    "    if user_string.islower():\n",
    "        print(user_string, ': All letters in the string are lowercase')\n",
    " \n",
    "    user_string = \"India 1974\"\n",
    "    toLower = user_string.lower()\n",
    "    print(user_string, ': Convert String in lowercase:', toLower)\n",
    " \n",
    "    toUpper = user_string.upper()\n",
    "    print(user_string, ': Convert String in uppercase:', toUpper)\n",
    " \n",
    "    # lstrip() Returns a copy of the string with all leading whitespace\n",
    "    # characters removed, that appear at the beginning of the string.\n",
    "    user_string = \"   India 1974\"\n",
    "    print('\\nLeft Strip:', user_string.lstrip())\n",
    " \n",
    "    # lstrip(char) Returns a copy of the string with all instances of\n",
    "    # char that appear at the beginning of the string removed.\n",
    "    user_string = \"America 1974\"\n",
    "    print('\\nLeft Strip with Character A:', user_string.lstrip('A'))\n",
    " \n",
    "    # rstrip() Returns a copy of the string with all leading whitespace\n",
    "    # characters removed, that appear at the end of the string.\n",
    "    user_string = \"America 1974     \"\n",
    "    print('\\nRight Strip:', user_string.rstrip('A'))\n",
    " \n",
    "    # rstrip(char) Returns a copy of the string with all instances of\n",
    "    # char that appear at the end of the string.\n",
    "    user_string = \"America\"\n",
    "    print('\\nRight Strip with Character a:', user_string.rstrip('a'))\n",
    " \n",
    "    # strip() returns a copy of the string with all leading\n",
    "    # and trailing whitespace characters removed.\n",
    "    user_string = \"   America 1974    \"\n",
    "    print('\\nStrip from both side :', user_string.strip())\n",
    " \n",
    "    # strip(char) Returns a copy of the string with all instances of\n",
    "    # char that appear at the beginning and the end of the string removed.\n",
    "    user_string = \"America Russia Japan China\"\n",
    "    print('\\nStrip with Character A:', user_string.strip('A'))\n",
    "    print('Strip with Character a:', user_string.strip('a'))\n",
    " \n",
    "    # endswith(substring) The substring argument is a string.\n",
    "    # The method returns true if the string ends with substring.\n",
    "    print('\\nendswith check whether a string ends with a specified substring')\n",
    "    user_string = \"Columbia\"\n",
    "    print(user_string.endswith('bia'))\n",
    "    print(user_string.endswith('mia'))\n",
    " \n",
    "    # startswith(substring) The substring argument is a string.\n",
    "    # The method returns true if the string starts with substring.\n",
    "    print('\\nstartswith check if a string starts with a specified substring')\n",
    "    user_string = \"Columbia\"\n",
    "    print(user_string.startswith('Colum'))\n",
    "    print(user_string.startswith('Rolum'))\n",
    " \n",
    "    # The substring argument is a string. The method returns the lowest\n",
    "    # index in the string where substring is found.\n",
    "    user_string = \"Columbia\"\n",
    "    print(user_string.find('lumbia'))\n",
    "    print(user_string.find('colbia'))\n",
    "    print(user_string.find('bia'))\n",
    "    print(user_string.find('col'))\n",
    "    print(user_string.find('Col'))\n",
    " \n",
    "    # replace(old, new) The old and new arguments are both strings. The method\n",
    "    # returns a copy of the string with all instances of old replaced by new.\n",
    "    user_string = \"Hello Columbia\"\n",
    "    old = \"Columbia\"\n",
    "    new = \"Russia\"\n",
    "    print(user_string.replace(old, new))\n",
    " \n",
    "main()"
   ]
  },
  {
   "cell_type": "markdown",
   "metadata": {},
   "source": [
    "#### Write a Python program to check if the given string is a Palindrome or Anagram or None of them. Display the message accordingly to the user."
   ]
  },
  {
   "cell_type": "code",
   "execution_count": 7,
   "metadata": {},
   "outputs": [
    {
     "name": "stdout",
     "output_type": "stream",
     "text": [
      "it is palindrome\n"
     ]
    }
   ],
   "source": [
    "def isPalindrome(s):\n",
    "\n",
    "   return s == s[::-1]   \n",
    "\n",
    "s = \"mam\"\n",
    "\n",
    "ans = isPalindrome(s)  \n",
    "\n",
    " \n",
    "\n",
    "if ans:  \n",
    "\n",
    "   print(\"it is palindrome\")  \n",
    "\n",
    "else:  \n",
    "\n",
    "   print(\"it is nano of them\")"
   ]
  }
 ],
 "metadata": {
  "kernelspec": {
   "display_name": "Python 3",
   "language": "python",
   "name": "python3"
  },
  "language_info": {
   "codemirror_mode": {
    "name": "ipython",
    "version": 3
   },
   "file_extension": ".py",
   "mimetype": "text/x-python",
   "name": "python",
   "nbconvert_exporter": "python",
   "pygments_lexer": "ipython3",
   "version": "3.8.5"
  }
 },
 "nbformat": 4,
 "nbformat_minor": 4
}
