{
 "cells": [
  {
   "cell_type": "code",
   "execution_count": 2,
   "metadata": {},
   "outputs": [
    {
     "name": "stdout",
     "output_type": "stream",
     "text": [
      "(-1-2j)\n"
     ]
    }
   ],
   "source": [
    "# Write a program to subtract two complex numbers in Python.\n",
    "a= 2+3j \n",
    "b= 3+5j\n",
    "c= a-b\n",
    "print(c)"
   ]
  },
  {
   "cell_type": "code",
   "execution_count": 4,
   "metadata": {},
   "outputs": [
    {
     "data": {
      "text/plain": [
       "2.0"
      ]
     },
     "execution_count": 4,
     "metadata": {},
     "output_type": "execute_result"
    }
   ],
   "source": [
    "# Write a program to find the fourth root of a number.\n",
    "16**0.25"
   ]
  },
  {
   "cell_type": "code",
   "execution_count": 5,
   "metadata": {},
   "outputs": [
    {
     "name": "stdout",
     "output_type": "stream",
     "text": [
      "3\n",
      "2\n"
     ]
    }
   ],
   "source": [
    "# Write a program to swap two numbers in Python with the help of a temporary variable.\n",
    "a= 2\n",
    "b= 3\n",
    "\n",
    "temp= a\n",
    "a= b\n",
    "b= temp\n",
    "\n",
    "print(a)\n",
    "print(b)"
   ]
  },
  {
   "cell_type": "code",
   "execution_count": 6,
   "metadata": {},
   "outputs": [
    {
     "name": "stdout",
     "output_type": "stream",
     "text": [
      "3\n",
      "2\n"
     ]
    }
   ],
   "source": [
    "# Write a program to swap two numbers in Python without using a temporary variable.\n",
    "a= 2\n",
    "b= 3\n",
    "\n",
    "a= a+b\n",
    "b= a-b\n",
    "a= a-b\n",
    "\n",
    "print(a)\n",
    "print(b)"
   ]
  },
  {
   "cell_type": "code",
   "execution_count": 9,
   "metadata": {},
   "outputs": [
    {
     "name": "stdout",
     "output_type": "stream",
     "text": [
      "311.27777777777777\n",
      "37.77777777777778\n"
     ]
    }
   ],
   "source": [
    "# Write a program to convert Fahrenheit to kelvin and celsius both.\n",
    " \n",
    "# Fahrenheit to Kelvin\n",
    "F= 100\n",
    "K= 273.5 + ((F - 32.0) * (5.0/9.0))\n",
    "print(K)\n",
    "\n",
    "# Fahrenheit to Celsius\n",
    "F= 100\n",
    "C= (F - 32.0) * (5.0 / 9.0)\n",
    "print(C)"
   ]
  },
  {
   "cell_type": "code",
   "execution_count": 13,
   "metadata": {},
   "outputs": [
    {
     "name": "stdout",
     "output_type": "stream",
     "text": [
      "<class 'int'>\n",
      "<class 'float'>\n",
      "<class 'complex'>\n",
      "<class 'list'>\n",
      "<class 'tuple'>\n"
     ]
    }
   ],
   "source": [
    "# Write a program to demonstrate all the available data types in Python. Hint: Use type() function.\n",
    "\n",
    "a= 1\n",
    "print(type(a))\n",
    "\n",
    "b= 1.1\n",
    "print(type(b))\n",
    "\n",
    "c= 1+1.1j\n",
    "print(type(c))\n",
    "\n",
    "lis1= [1,2,3,4]\n",
    "print(type(lis1))\n",
    "\n",
    "tup= (1,2,3,4)\n",
    "print(type(tup))"
   ]
  }
 ],
 "metadata": {
  "kernelspec": {
   "display_name": "Python 3",
   "language": "python",
   "name": "python3"
  },
  "language_info": {
   "codemirror_mode": {
    "name": "ipython",
    "version": 3
   },
   "file_extension": ".py",
   "mimetype": "text/x-python",
   "name": "python",
   "nbconvert_exporter": "python",
   "pygments_lexer": "ipython3",
   "version": "3.8.5"
  }
 },
 "nbformat": 4,
 "nbformat_minor": 4
}
