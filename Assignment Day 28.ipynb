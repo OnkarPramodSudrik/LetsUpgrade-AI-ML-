{
 "cells": [
  {
   "cell_type": "raw",
   "metadata": {},
   "source": [
    "Create one array of actual values and another array of predicted values. Compare the two sets with the confusion matrix."
   ]
  },
  {
   "cell_type": "code",
   "execution_count": 1,
   "metadata": {},
   "outputs": [
    {
     "name": "stdout",
     "output_type": "stream",
     "text": [
      "Confusion_matrix:\n",
      " [[4 2]\n",
      " [1 3]]\n",
      "\n",
      "Accuracy       : 0.7\n",
      "\n",
      "Recall(+ve)    : 0.75\n",
      "Recall(-ve)    : 0.67\n",
      "\n",
      "Precision(+ve) : 0.6\n",
      "Precision(-ve) : 0.8\n",
      "\n",
      "f1 score(+ve)  : 0.67\n",
      "f1 score(-ve)  : 0.73\n",
      "\n",
      "              precision    recall  f1-score   support\n",
      "\n",
      "           0       0.80      0.67      0.73         6\n",
      "           1       0.60      0.75      0.67         4\n",
      "\n",
      "    accuracy                           0.70        10\n",
      "   macro avg       0.70      0.71      0.70        10\n",
      "weighted avg       0.72      0.70      0.70        10\n",
      "\n"
     ]
    }
   ],
   "source": [
    "# Importing required modules\n",
    "import numpy as np\n",
    "import matplotlib.pyplot as plt\n",
    "from sklearn.metrics import accuracy_score, precision_score, recall_score, f1_score, classification_report, confusion_matrix\n",
    "\n",
    "# Actual Values\n",
    "actual = [1, 1, 0, 1, 0, 0, 1, 0, 0, 0]\n",
    "\n",
    "# Predicted Values\n",
    "pred = [1, 1, 1, 0, 1, 0, 1, 0, 0, 0]\n",
    "\n",
    "# Confusion Matrix\n",
    "print(\"Confusion_matrix:\\n\",\n",
    "      confusion_matrix(y_true=actual, y_pred=pred, labels=[0, 1]),\n",
    "      end=\"\\n\\n\")\n",
    "\n",
    "# Accuracy\n",
    "print(\"Accuracy       :\", round(accuracy_score(y_true=actual, y_pred=pred), 4), end=\"\\n\\n\")\n",
    "\n",
    "# Recall\n",
    "positive = recall_score(y_true=actual, y_pred=pred, pos_label=1)\n",
    "negetive = recall_score(y_true=actual, y_pred=pred, pos_label=0)\n",
    "print(\"Recall(+ve)    :\", round(positive, 2), end=\"\\n\")\n",
    "print(\"Recall(-ve)    :\", round(negetive, 2), end=\"\\n\\n\")\n",
    "\n",
    "# Precision\n",
    "positive1 = precision_score(y_true=actual, y_pred=pred, pos_label=1)\n",
    "negetive1 = precision_score(y_true=actual, y_pred=pred, pos_label=0)\n",
    "print(\"Precision(+ve) :\", round(positive1, 2), end=\"\\n\")\n",
    "print(\"Precision(-ve) :\", round(negetive1, 2), end=\"\\n\\n\")\n",
    "\n",
    "# f1 score\n",
    "positive2 = f1_score(y_true=actual, y_pred=pred, pos_label=1)\n",
    "negetive2 = f1_score(y_true=actual, y_pred=pred, pos_label=0)\n",
    "print(\"f1 score(+ve)  :\", round(positive2, 2), end=\"\\n\")\n",
    "print(\"f1 score(-ve)  :\", round(negetive2, 2), end=\"\\n\\n\")\n",
    "\n",
    "print(classification_report(y_true=actual, y_pred=pred, labels=[0, 1]))"
   ]
  },
  {
   "cell_type": "raw",
   "metadata": {},
   "source": [
    "Find out the recall, precision, F1 score and confusion matrix with picture"
   ]
  },
  {
   "cell_type": "code",
   "execution_count": 2,
   "metadata": {},
   "outputs": [
    {
     "name": "stdout",
     "output_type": "stream",
     "text": [
      "Confusion Matrix:\n",
      " [[48  8]\n",
      " [18 32]]\n",
      "\n",
      "Accuracy  = 0.7547\n",
      "\n",
      "Recall    = 0.7273\n",
      "\n",
      "Precision = 0.8571\n",
      "\n",
      "f1 score  = 0.7869\n",
      "\n"
     ]
    }
   ],
   "source": [
    "# Confusion Matrix\n",
    "cm = np.array([[48, 8], [18, 32]])\n",
    "print(\"Confusion Matrix:\\n\", cm, end=\"\\n\\n\")\n",
    "\n",
    "# True positive\n",
    "tp = cm[0, 0]\n",
    "# True negetive\n",
    "tn = cm[1, 1]\n",
    "# False positive\n",
    "fp = cm[0, 1]\n",
    "# False negetive\n",
    "fn = cm[1, 0]\n",
    "\n",
    "# Accuracy Score\n",
    "acc = (tp + tn) / (tp + tn + fp + fn)\n",
    "print(\"Accuracy  =\", round(acc, 4), end=\"\\n\\n\")\n",
    "\n",
    "# Recall\n",
    "rc = tp / (tp + fn)\n",
    "print(\"Recall    =\", round(rc, 4), end=\"\\n\\n\")\n",
    "\n",
    "# Precision\n",
    "pr = tp / (tp + fp)\n",
    "print(\"Precision =\", round(pr, 4), end=\"\\n\\n\")\n",
    "\n",
    "# f1 score\n",
    "fs = (2 * pr * rc) / (pr + rc)\n",
    "print(\"f1 score  =\", round(fs, 4), end=\"\\n\\n\")"
   ]
  },
  {
   "cell_type": "code",
   "execution_count": 3,
   "metadata": {},
   "outputs": [
    {
     "data": {
      "image/png": "[encoded data removed]",
      "text/plain": [
       "<Figure size 360x360 with 1 Axes>"
      ]
     },
     "metadata": {
      "needs_background": "light"
     },
     "output_type": "display_data"
    }
   ],
   "source": [
    "# Figure\n",
    "fig, ax = plt.subplots(figsize=(5, 5))\n",
    "ax.matshow(cm, cmap=plt.cm.Oranges, alpha=0.3)\n",
    "for i in range(cm.shape[0]):\n",
    "    for j in range(cm.shape[1]):\n",
    "        ax.text(x=j,\n",
    "                y=i,\n",
    "                s=cm[i, j],\n",
    "                va='center',\n",
    "                ha='center',\n",
    "                size='xx-large')\n",
    "plt.xlabel('Predictions', fontsize=18)\n",
    "plt.ylabel('Actuals', fontsize=18)\n",
    "plt.title('Confusion Matrix', fontsize=18)\n",
    "plt.show()"
   ]
  },
  {
   "cell_type": "code",
   "execution_count": null,
   "metadata": {},
   "outputs": [],
   "source": []
  }
 ],
 "metadata": {
  "kernelspec": {
   "display_name": "Python 3",
   "language": "python",
   "name": "python3"
  },
  "language_info": {
   "codemirror_mode": {
    "name": "ipython",
    "version": 3
   },
   "file_extension": ".py",
   "mimetype": "text/x-python",
   "name": "python",
   "nbconvert_exporter": "python",
   "pygments_lexer": "ipython3",
   "version": "3.8.5"
  },
  "toc": {
   "base_numbering": 1,
   "nav_menu": {},
   "number_sections": true,
   "sideBar": true,
   "skip_h1_title": false,
   "title_cell": "Table of Contents",
   "title_sidebar": "Contents",
   "toc_cell": false,
   "toc_position": {},
   "toc_section_display": true,
   "toc_window_display": false
  }
 },
 "nbformat": 4,
 "nbformat_minor": 4
}
